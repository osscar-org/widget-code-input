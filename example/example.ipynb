{
 "cells": [
  {
   "cell_type": "code",
   "execution_count": null,
   "id": "ee3f55c6-5f98-4572-aea1-a66776dc7d7b",
   "metadata": {},
   "outputs": [],
   "source": []
  },
  {
   "cell_type": "code",
   "execution_count": 1,
   "id": "5df2c405",
   "metadata": {},
   "outputs": [],
   "source": [
    "from widget_code_input import WidgetCodeInput\n",
    "import importlib\n",
    "\n",
    "\n",
    "\n",
    "w = WidgetCodeInput(\n",
    "   function_name = \"my_function\",\n",
    "   function_parameters = \"a, b\",\n",
    "#        docstring='abc',\n",
    "   docstring=\"abc\",\n",
    "    code_theme=\"basicLight\",\n",
    "    function_body=\"return a+b\"\n",
    ")\n",
    "\n"
   ]
  },
  {
   "cell_type": "code",
   "execution_count": 2,
   "id": "e74c9c9e",
   "metadata": {
    "scrolled": true
   },
   "outputs": [
    {
     "data": {
      "application/vnd.jupyter.widget-view+json": {
       "model_id": "d1679bd64f174ba6a3c248a14e9f87f5",
       "version_major": 2,
       "version_minor": 0
      },
      "text/plain": [
       "WidgetCodeInput(code_theme='basicLight', docstring='\"\"\"abc\"\"\"', function_body='return a+b', function_name='my_…"
      ]
     },
     "metadata": {},
     "output_type": "display_data"
    }
   ],
   "source": [
    "w"
   ]
  },
  {
   "cell_type": "code",
   "execution_count": 3,
   "id": "e90010bd",
   "metadata": {},
   "outputs": [],
   "source": [
    "w.code_theme=\"solarizedLight\""
   ]
  },
  {
   "cell_type": "code",
   "execution_count": 6,
   "id": "22853da3-2882-4b4a-b777-bf76bf301de9",
   "metadata": {},
   "outputs": [],
   "source": [
    "w.docstring=None"
   ]
  },
  {
   "cell_type": "code",
   "execution_count": 7,
   "id": "3d023823",
   "metadata": {},
   "outputs": [],
   "source": [
    "w.docstring=\"334\""
   ]
  },
  {
   "cell_type": "code",
   "execution_count": 6,
   "id": "5ea3d39d",
   "metadata": {},
   "outputs": [
    {
     "data": {
      "application/vnd.jupyter.widget-view+json": {
       "model_id": "eec6fdedac434c68ae22c7ad56283ef2",
       "version_major": 2,
       "version_minor": 0
      },
      "text/plain": [
       "WidgetCodeInput(code_theme='basicLight', docstring='334', function_body='return a+b', function_name='my_functi…"
      ]
     },
     "metadata": {},
     "output_type": "display_data"
    }
   ],
   "source": [
    "w"
   ]
  },
  {
   "cell_type": "code",
   "execution_count": 7,
   "id": "e8e56926",
   "metadata": {},
   "outputs": [
    {
     "data": {
      "application/vnd.jupyter.widget-view+json": {
       "model_id": "0bc406910d7f433b975a37e36cd7f248",
       "version_major": 2,
       "version_minor": 0
      },
      "text/plain": [
       "WidgetCodeInput(code_theme='solarizedLight', docstring='123', function_body='return a+b', function_name='my_fu…"
      ]
     },
     "metadata": {},
     "output_type": "display_data"
    }
   ],
   "source": [
    "w"
   ]
  },
  {
   "cell_type": "code",
   "execution_count": 8,
   "id": "75900629",
   "metadata": {},
   "outputs": [],
   "source": [
    "# w2 = WidgetCodeInput(\n",
    "#    function_name = \"my_function\",\n",
    "#    function_parameters = \"a, b, c\",\n",
    "#    docstring=\"\"\"\n",
    "#    Input docstring here.\n",
    "# \"\"\",\n",
    "#    function_body=\"# Give information for the function\\nreturn a+b+c\",\n",
    "#     code_theme=\"basicLight\"\n",
    "# )\n",
    "# w2"
   ]
  }
 ],
 "metadata": {
  "kernelspec": {
   "display_name": "Python 3 (ipykernel)",
   "language": "python",
   "name": "python3"
  },
  "language_info": {
   "codemirror_mode": {
    "name": "ipython",
    "version": 3
   },
   "file_extension": ".py",
   "mimetype": "text/x-python",
   "name": "python",
   "nbconvert_exporter": "python",
   "pygments_lexer": "ipython3",
   "version": "3.10.12"
  }
 },
 "nbformat": 4,
 "nbformat_minor": 5
}
